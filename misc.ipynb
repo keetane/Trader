{
 "cells": [
  {
   "cell_type": "code",
   "execution_count": 1,
   "metadata": {},
   "outputs": [],
   "source": [
    "import streamlit as st\n",
    "import pandas as pd\n",
    "import yfinance as yf\n",
    "from datetime import datetime, timedelta, time\n",
    "import plotly.graph_objects as go\n",
    "from random import random"
   ]
  },
  {
   "cell_type": "code",
   "execution_count": 40,
   "metadata": {},
   "outputs": [],
   "source": [
    "ticker_dict = {\n",
    "    '住石HD' : '1514',\n",
    "    '日経レバダブル' : '1579',\n",
    "    '霞ヶ関' : '3498',\n",
    "    'さくらインターネット' : '3778',\n",
    "    'QPS' : '5595',\n",
    "    'リクルート' : '6098',\n",
    "    'ディスコ' : '6146',\n",
    "    'ソシオネクスト' : '6526',\n",
    "    'ルネサス' : '6723',\n",
    "    'アドバンテスト' : '6857',\n",
    "    'レーザーテック' : '6920',\n",
    "    '三井E&S' : '7003',\n",
    "    '名村造船所' : '7014',\n",
    "    '東京エレクトロン' : '8035',\n",
    "    'MUFG' : '8306',\n",
    "    '日本郵船' : '9101',\n",
    "    '川崎汽船' : '9107',\n",
    "    '売れるネット広告社' : '9235',\n",
    "    'ispace' : '9348',\n",
    "    'SBG': '9984',\n",
    "}"
   ]
  },
  {
   "cell_type": "code",
   "execution_count": 41,
   "metadata": {},
   "outputs": [],
   "source": [
    "df = pd.DataFrame(ticker_dict.values(), index=ticker_dict.keys(), columns=['code'])\n",
    "df['code'] = df['code'].astype(int)\n",
    "df.to_csv('tickers.csv')"
   ]
  },
  {
   "cell_type": "code",
   "execution_count": 42,
   "metadata": {},
   "outputs": [
    {
     "data": {
      "text/plain": [
       "{'住石HD': 1514,\n",
       " '日経レバダブル': 1579,\n",
       " '霞ヶ関': 3498,\n",
       " 'さくらインターネット': 3778,\n",
       " 'QPS': 5595,\n",
       " 'リクルート': 6098,\n",
       " 'ディスコ': 6146,\n",
       " 'ソシオネクスト': 6526,\n",
       " 'ルネサス': 6723,\n",
       " 'アドバンテスト': 6857,\n",
       " 'レーザーテック': 6920,\n",
       " '三井E&S': 7003,\n",
       " '名村造船所': 7014,\n",
       " '東京エレクトロン': 8035,\n",
       " 'MUFG': 8306,\n",
       " '日本郵船': 9101,\n",
       " '川崎汽船': 9107,\n",
       " '売れるネット広告社': 9235,\n",
       " 'ispace': 9348,\n",
       " 'SBG': 9984}"
      ]
     },
     "execution_count": 42,
     "metadata": {},
     "output_type": "execute_result"
    }
   ],
   "source": [
    "df = pd.read_csv('tickers.csv', index_col=0)\n",
    "df.to_dict()['code']"
   ]
  },
  {
   "cell_type": "code",
   "execution_count": 43,
   "metadata": {},
   "outputs": [
    {
     "data": {
      "text/plain": [
       "{'住石HD': 1514,\n",
       " '日経レバダブル': 1579,\n",
       " '霞ヶ関': 3498,\n",
       " 'さくらインターネット': 3778,\n",
       " 'QPS': 5595,\n",
       " 'リクルート': 6098,\n",
       " 'ディスコ': 6146,\n",
       " 'ソシオネクスト': 6526,\n",
       " 'ルネサス': 6723,\n",
       " 'アドバンテスト': 6857,\n",
       " 'レーザーテック': 6920,\n",
       " '三井E&S': 7003,\n",
       " '名村造船所': 7014,\n",
       " '東京エレクトロン': 8035,\n",
       " 'MUFG': 8306,\n",
       " '日本郵船': 9101,\n",
       " '川崎汽船': 9107,\n",
       " '売れるネット広告社': 9235,\n",
       " 'ispace': 9348,\n",
       " 'SBG': 9984}"
      ]
     },
     "execution_count": 43,
     "metadata": {},
     "output_type": "execute_result"
    }
   ],
   "source": [
    "ticker_dict = pd.read_csv('tickers.csv', index_col=0).to_dict()['code']\n",
    "ticker_dict"
   ]
  }
 ],
 "metadata": {
  "kernelspec": {
   "display_name": "ci",
   "language": "python",
   "name": "python3"
  },
  "language_info": {
   "codemirror_mode": {
    "name": "ipython",
    "version": 3
   },
   "file_extension": ".py",
   "mimetype": "text/x-python",
   "name": "python",
   "nbconvert_exporter": "python",
   "pygments_lexer": "ipython3",
   "version": "3.10.12"
  }
 },
 "nbformat": 4,
 "nbformat_minor": 2
}
