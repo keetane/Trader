{
 "cells": [
  {
   "cell_type": "code",
   "execution_count": 176,
   "metadata": {},
   "outputs": [],
   "source": [
    "# ライブラリのimport\n",
    "import pandas as pd\n",
    "import yfinance as yf\n",
    "from datetime import datetime, timedelta, time\n",
    "import plotly.graph_objects as go\n",
    "from random import random\n",
    "import glob"
   ]
  },
  {
   "cell_type": "markdown",
   "metadata": {},
   "source": [
    "### 取引履歴のダウンロードと統合\n",
    "https://www.rakuten-sec.co.jp/"
   ]
  },
  {
   "cell_type": "code",
   "execution_count": 195,
   "metadata": {},
   "outputs": [
    {
     "data": {
      "text/html": [
       "<div>\n",
       "<style scoped>\n",
       "    .dataframe tbody tr th:only-of-type {\n",
       "        vertical-align: middle;\n",
       "    }\n",
       "\n",
       "    .dataframe tbody tr th {\n",
       "        vertical-align: top;\n",
       "    }\n",
       "\n",
       "    .dataframe thead th {\n",
       "        text-align: right;\n",
       "    }\n",
       "</style>\n",
       "<table border=\"1\" class=\"dataframe\">\n",
       "  <thead>\n",
       "    <tr style=\"text-align: right;\">\n",
       "      <th></th>\n",
       "      <th>注文番号</th>\n",
       "      <th>アルゴ注文番号</th>\n",
       "      <th>繰越区分</th>\n",
       "      <th>状況</th>\n",
       "      <th>状況(逆指値)</th>\n",
       "      <th>セット注文</th>\n",
       "      <th>執行条件</th>\n",
       "      <th>注文期限</th>\n",
       "      <th>銘柄</th>\n",
       "      <th>銘柄コード・市場</th>\n",
       "      <th>...</th>\n",
       "      <th>逆指値条件</th>\n",
       "      <th>セット注文条件</th>\n",
       "      <th>信用区分(弁済期限)</th>\n",
       "      <th>注文数量[株/口]</th>\n",
       "      <th>約定数量[株/口]</th>\n",
       "      <th>注文単価[円]</th>\n",
       "      <th>約定単価[円]</th>\n",
       "      <th>現在値[円]</th>\n",
       "      <th>約定代金[円]</th>\n",
       "      <th>手数料[円]</th>\n",
       "    </tr>\n",
       "    <tr>\n",
       "      <th>注文日時</th>\n",
       "      <th></th>\n",
       "      <th></th>\n",
       "      <th></th>\n",
       "      <th></th>\n",
       "      <th></th>\n",
       "      <th></th>\n",
       "      <th></th>\n",
       "      <th></th>\n",
       "      <th></th>\n",
       "      <th></th>\n",
       "      <th></th>\n",
       "      <th></th>\n",
       "      <th></th>\n",
       "      <th></th>\n",
       "      <th></th>\n",
       "      <th></th>\n",
       "      <th></th>\n",
       "      <th></th>\n",
       "      <th></th>\n",
       "      <th></th>\n",
       "      <th></th>\n",
       "    </tr>\n",
       "  </thead>\n",
       "  <tbody>\n",
       "    <tr>\n",
       "      <th>2024-06-07 13:44:00</th>\n",
       "      <td>1947</td>\n",
       "      <td>NaN</td>\n",
       "      <td>NaN</td>\n",
       "      <td>約定</td>\n",
       "      <td>-</td>\n",
       "      <td>-</td>\n",
       "      <td>IOC</td>\n",
       "      <td>2024/06/07</td>\n",
       "      <td>ＱＰＳ研究所</td>\n",
       "      <td>5595 東証(SOR)</td>\n",
       "      <td>...</td>\n",
       "      <td>-</td>\n",
       "      <td>-</td>\n",
       "      <td>制度(6ヶ月)</td>\n",
       "      <td>1,000</td>\n",
       "      <td>1000.0</td>\n",
       "      <td>成行</td>\n",
       "      <td>2440.4</td>\n",
       "      <td>2443.0</td>\n",
       "      <td>2,440,400</td>\n",
       "      <td>0</td>\n",
       "    </tr>\n",
       "    <tr>\n",
       "      <th>2024-06-07 13:40:00</th>\n",
       "      <td>1945</td>\n",
       "      <td>NaN</td>\n",
       "      <td>NaN</td>\n",
       "      <td>約定</td>\n",
       "      <td>-</td>\n",
       "      <td>-</td>\n",
       "      <td>IOC</td>\n",
       "      <td>2024/06/07</td>\n",
       "      <td>ＱＰＳ研究所</td>\n",
       "      <td>5595 東証(SOR)</td>\n",
       "      <td>...</td>\n",
       "      <td>-</td>\n",
       "      <td>-</td>\n",
       "      <td>制度(6ヶ月)</td>\n",
       "      <td>300</td>\n",
       "      <td>300.0</td>\n",
       "      <td>成行</td>\n",
       "      <td>2456.0</td>\n",
       "      <td>2443.0</td>\n",
       "      <td>736,800</td>\n",
       "      <td>0</td>\n",
       "    </tr>\n",
       "    <tr>\n",
       "      <th>2024-06-07 13:40:00</th>\n",
       "      <td>1946</td>\n",
       "      <td>NaN</td>\n",
       "      <td>NaN</td>\n",
       "      <td>約定</td>\n",
       "      <td>-</td>\n",
       "      <td>-</td>\n",
       "      <td>IOC</td>\n",
       "      <td>2024/06/07</td>\n",
       "      <td>ＱＰＳ研究所</td>\n",
       "      <td>5595 東証(SOR)</td>\n",
       "      <td>...</td>\n",
       "      <td>-</td>\n",
       "      <td>-</td>\n",
       "      <td>制度(6ヶ月)</td>\n",
       "      <td>100</td>\n",
       "      <td>100.0</td>\n",
       "      <td>成行</td>\n",
       "      <td>2455.8</td>\n",
       "      <td>2443.0</td>\n",
       "      <td>245,580</td>\n",
       "      <td>0</td>\n",
       "    </tr>\n",
       "    <tr>\n",
       "      <th>2024-06-07 13:38:00</th>\n",
       "      <td>1944</td>\n",
       "      <td>NaN</td>\n",
       "      <td>NaN</td>\n",
       "      <td>約定</td>\n",
       "      <td>-</td>\n",
       "      <td>-</td>\n",
       "      <td>IOC</td>\n",
       "      <td>2024/06/07</td>\n",
       "      <td>ＱＰＳ研究所</td>\n",
       "      <td>5595 東証(SOR)</td>\n",
       "      <td>...</td>\n",
       "      <td>-</td>\n",
       "      <td>-</td>\n",
       "      <td>制度(6ヶ月)</td>\n",
       "      <td>300</td>\n",
       "      <td>300.0</td>\n",
       "      <td>成行</td>\n",
       "      <td>2459.0</td>\n",
       "      <td>2443.0</td>\n",
       "      <td>737,700</td>\n",
       "      <td>0</td>\n",
       "    </tr>\n",
       "    <tr>\n",
       "      <th>2024-06-07 13:38:00</th>\n",
       "      <td>1943</td>\n",
       "      <td>NaN</td>\n",
       "      <td>NaN</td>\n",
       "      <td>約定</td>\n",
       "      <td>-</td>\n",
       "      <td>-</td>\n",
       "      <td>IOC</td>\n",
       "      <td>2024/06/07</td>\n",
       "      <td>ＱＰＳ研究所</td>\n",
       "      <td>5595 東証(SOR)</td>\n",
       "      <td>...</td>\n",
       "      <td>-</td>\n",
       "      <td>-</td>\n",
       "      <td>制度(6ヶ月)</td>\n",
       "      <td>300</td>\n",
       "      <td>300.0</td>\n",
       "      <td>成行</td>\n",
       "      <td>2457.0</td>\n",
       "      <td>2443.0</td>\n",
       "      <td>737,100</td>\n",
       "      <td>0</td>\n",
       "    </tr>\n",
       "    <tr>\n",
       "      <th>...</th>\n",
       "      <td>...</td>\n",
       "      <td>...</td>\n",
       "      <td>...</td>\n",
       "      <td>...</td>\n",
       "      <td>...</td>\n",
       "      <td>...</td>\n",
       "      <td>...</td>\n",
       "      <td>...</td>\n",
       "      <td>...</td>\n",
       "      <td>...</td>\n",
       "      <td>...</td>\n",
       "      <td>...</td>\n",
       "      <td>...</td>\n",
       "      <td>...</td>\n",
       "      <td>...</td>\n",
       "      <td>...</td>\n",
       "      <td>...</td>\n",
       "      <td>...</td>\n",
       "      <td>...</td>\n",
       "      <td>...</td>\n",
       "      <td>...</td>\n",
       "    </tr>\n",
       "    <tr>\n",
       "      <th>2024-05-29 09:02:00</th>\n",
       "      <td>1722</td>\n",
       "      <td>NaN</td>\n",
       "      <td>NaN</td>\n",
       "      <td>約定</td>\n",
       "      <td>-</td>\n",
       "      <td>-</td>\n",
       "      <td>IOC</td>\n",
       "      <td>2024/05/29</td>\n",
       "      <td>ソシオネクスト</td>\n",
       "      <td>6526 東証(SOR)</td>\n",
       "      <td>...</td>\n",
       "      <td>-</td>\n",
       "      <td>-</td>\n",
       "      <td>制度(6ヶ月)</td>\n",
       "      <td>100</td>\n",
       "      <td>100.0</td>\n",
       "      <td>成行</td>\n",
       "      <td>4692.2</td>\n",
       "      <td>4345.0</td>\n",
       "      <td>469,220</td>\n",
       "      <td>0</td>\n",
       "    </tr>\n",
       "    <tr>\n",
       "      <th>2024-05-29 09:01:00</th>\n",
       "      <td>1721</td>\n",
       "      <td>NaN</td>\n",
       "      <td>NaN</td>\n",
       "      <td>約定</td>\n",
       "      <td>-</td>\n",
       "      <td>-</td>\n",
       "      <td>IOC</td>\n",
       "      <td>2024/05/29</td>\n",
       "      <td>ソシオネクスト</td>\n",
       "      <td>6526 東証(SOR)</td>\n",
       "      <td>...</td>\n",
       "      <td>-</td>\n",
       "      <td>-</td>\n",
       "      <td>制度(6ヶ月)</td>\n",
       "      <td>100</td>\n",
       "      <td>100.0</td>\n",
       "      <td>成行</td>\n",
       "      <td>4693.7</td>\n",
       "      <td>4345.0</td>\n",
       "      <td>469,370</td>\n",
       "      <td>0</td>\n",
       "    </tr>\n",
       "    <tr>\n",
       "      <th>2024-05-27 09:07:00</th>\n",
       "      <td>1720</td>\n",
       "      <td>NaN</td>\n",
       "      <td>NaN</td>\n",
       "      <td>約定</td>\n",
       "      <td>-</td>\n",
       "      <td>-</td>\n",
       "      <td>IOC</td>\n",
       "      <td>2024/05/27</td>\n",
       "      <td>三井Ｅ＆Ｓ</td>\n",
       "      <td>7003 東証(SOR)</td>\n",
       "      <td>...</td>\n",
       "      <td>-</td>\n",
       "      <td>-</td>\n",
       "      <td>制度(6ヶ月)</td>\n",
       "      <td>200</td>\n",
       "      <td>200.0</td>\n",
       "      <td>成行</td>\n",
       "      <td>1406.6</td>\n",
       "      <td>1534.0</td>\n",
       "      <td>281,320</td>\n",
       "      <td>0</td>\n",
       "    </tr>\n",
       "    <tr>\n",
       "      <th>2024-05-27 09:07:00</th>\n",
       "      <td>1719</td>\n",
       "      <td>NaN</td>\n",
       "      <td>NaN</td>\n",
       "      <td>約定</td>\n",
       "      <td>-</td>\n",
       "      <td>-</td>\n",
       "      <td>IOC</td>\n",
       "      <td>2024/05/27</td>\n",
       "      <td>三井Ｅ＆Ｓ</td>\n",
       "      <td>7003 東証(SOR)</td>\n",
       "      <td>...</td>\n",
       "      <td>-</td>\n",
       "      <td>-</td>\n",
       "      <td>制度(6ヶ月)</td>\n",
       "      <td>100</td>\n",
       "      <td>100.0</td>\n",
       "      <td>成行</td>\n",
       "      <td>1401.6</td>\n",
       "      <td>1534.0</td>\n",
       "      <td>140,160</td>\n",
       "      <td>0</td>\n",
       "    </tr>\n",
       "    <tr>\n",
       "      <th>2024-05-27 09:06:00</th>\n",
       "      <td>1718</td>\n",
       "      <td>NaN</td>\n",
       "      <td>NaN</td>\n",
       "      <td>約定</td>\n",
       "      <td>-</td>\n",
       "      <td>-</td>\n",
       "      <td>IOC</td>\n",
       "      <td>2024/05/27</td>\n",
       "      <td>三井Ｅ＆Ｓ</td>\n",
       "      <td>7003 東証(SOR)</td>\n",
       "      <td>...</td>\n",
       "      <td>-</td>\n",
       "      <td>-</td>\n",
       "      <td>制度(6ヶ月)</td>\n",
       "      <td>100</td>\n",
       "      <td>100.0</td>\n",
       "      <td>成行</td>\n",
       "      <td>1402.7</td>\n",
       "      <td>1534.0</td>\n",
       "      <td>140,270</td>\n",
       "      <td>0</td>\n",
       "    </tr>\n",
       "  </tbody>\n",
       "</table>\n",
       "<p>451 rows × 25 columns</p>\n",
       "</div>"
      ],
      "text/plain": [
       "                     注文番号  アルゴ注文番号  繰越区分  状況 状況(逆指値) セット注文 執行条件        注文期限  \\\n",
       "注文日時                                                                          \n",
       "2024-06-07 13:44:00  1947      NaN   NaN  約定       -     -  IOC  2024/06/07   \n",
       "2024-06-07 13:40:00  1945      NaN   NaN  約定       -     -  IOC  2024/06/07   \n",
       "2024-06-07 13:40:00  1946      NaN   NaN  約定       -     -  IOC  2024/06/07   \n",
       "2024-06-07 13:38:00  1944      NaN   NaN  約定       -     -  IOC  2024/06/07   \n",
       "2024-06-07 13:38:00  1943      NaN   NaN  約定       -     -  IOC  2024/06/07   \n",
       "...                   ...      ...   ...  ..     ...   ...  ...         ...   \n",
       "2024-05-29 09:02:00  1722      NaN   NaN  約定       -     -  IOC  2024/05/29   \n",
       "2024-05-29 09:01:00  1721      NaN   NaN  約定       -     -  IOC  2024/05/29   \n",
       "2024-05-27 09:07:00  1720      NaN   NaN  約定       -     -  IOC  2024/05/27   \n",
       "2024-05-27 09:07:00  1719      NaN   NaN  約定       -     -  IOC  2024/05/27   \n",
       "2024-05-27 09:06:00  1718      NaN   NaN  約定       -     -  IOC  2024/05/27   \n",
       "\n",
       "                          銘柄      銘柄コード・市場  ... 逆指値条件 セット注文条件 信用区分(弁済期限)  \\\n",
       "注文日時                                        ...                            \n",
       "2024-06-07 13:44:00   ＱＰＳ研究所  5595 東証(SOR)  ...     -       -    制度(6ヶ月)   \n",
       "2024-06-07 13:40:00   ＱＰＳ研究所  5595 東証(SOR)  ...     -       -    制度(6ヶ月)   \n",
       "2024-06-07 13:40:00   ＱＰＳ研究所  5595 東証(SOR)  ...     -       -    制度(6ヶ月)   \n",
       "2024-06-07 13:38:00   ＱＰＳ研究所  5595 東証(SOR)  ...     -       -    制度(6ヶ月)   \n",
       "2024-06-07 13:38:00   ＱＰＳ研究所  5595 東証(SOR)  ...     -       -    制度(6ヶ月)   \n",
       "...                      ...           ...  ...   ...     ...        ...   \n",
       "2024-05-29 09:02:00  ソシオネクスト  6526 東証(SOR)  ...     -       -    制度(6ヶ月)   \n",
       "2024-05-29 09:01:00  ソシオネクスト  6526 東証(SOR)  ...     -       -    制度(6ヶ月)   \n",
       "2024-05-27 09:07:00    三井Ｅ＆Ｓ  7003 東証(SOR)  ...     -       -    制度(6ヶ月)   \n",
       "2024-05-27 09:07:00    三井Ｅ＆Ｓ  7003 東証(SOR)  ...     -       -    制度(6ヶ月)   \n",
       "2024-05-27 09:06:00    三井Ｅ＆Ｓ  7003 東証(SOR)  ...     -       -    制度(6ヶ月)   \n",
       "\n",
       "                    注文数量[株/口] 約定数量[株/口] 注文単価[円] 約定単価[円]  現在値[円]    約定代金[円]  \\\n",
       "注文日時                                                                         \n",
       "2024-06-07 13:44:00     1,000    1000.0      成行  2440.4  2443.0  2,440,400   \n",
       "2024-06-07 13:40:00       300     300.0      成行  2456.0  2443.0    736,800   \n",
       "2024-06-07 13:40:00       100     100.0      成行  2455.8  2443.0    245,580   \n",
       "2024-06-07 13:38:00       300     300.0      成行  2459.0  2443.0    737,700   \n",
       "2024-06-07 13:38:00       300     300.0      成行  2457.0  2443.0    737,100   \n",
       "...                       ...       ...     ...     ...     ...        ...   \n",
       "2024-05-29 09:02:00       100     100.0      成行  4692.2  4345.0    469,220   \n",
       "2024-05-29 09:01:00       100     100.0      成行  4693.7  4345.0    469,370   \n",
       "2024-05-27 09:07:00       200     200.0      成行  1406.6  1534.0    281,320   \n",
       "2024-05-27 09:07:00       100     100.0      成行  1401.6  1534.0    140,160   \n",
       "2024-05-27 09:06:00       100     100.0      成行  1402.7  1534.0    140,270   \n",
       "\n",
       "                     手数料[円]  \n",
       "注文日時                         \n",
       "2024-06-07 13:44:00       0  \n",
       "2024-06-07 13:40:00       0  \n",
       "2024-06-07 13:40:00       0  \n",
       "2024-06-07 13:38:00       0  \n",
       "2024-06-07 13:38:00       0  \n",
       "...                     ...  \n",
       "2024-05-29 09:02:00       0  \n",
       "2024-05-29 09:01:00       0  \n",
       "2024-05-27 09:07:00       0  \n",
       "2024-05-27 09:07:00       0  \n",
       "2024-05-27 09:06:00       0  \n",
       "\n",
       "[451 rows x 25 columns]"
      ]
     },
     "execution_count": 195,
     "metadata": {},
     "output_type": "execute_result"
    }
   ],
   "source": [
    "# 履歴のファイルを読み込み\n",
    "his = pd.read_csv('./history/history.csv',\n",
    "                    parse_dates=['注文日時'], \n",
    "                    index_col='注文日時'\n",
    "                    )\n",
    "\n",
    "# DLしたファイルの読み込み\n",
    "file_list = glob.glob('../../Downloads/stockorder(JP)_*')\n",
    "for file in file_list:\n",
    "    dft = pd.read_csv(file, encoding='cp932')\n",
    "    # '注文日時'カラムをdatetimeに変換\n",
    "    dft['注文日時'] = pd.to_datetime(dft['注文日時'], format='%m/%d %H:%M')\n",
    "    # 注文日時の年を2024年に変更\n",
    "    dft['注文日時'] = dft['注文日時'].apply(lambda dt: dt.replace(year=2024))\n",
    "    # '注文日時'カラムをインデックスに設定\n",
    "    dft.set_index('注文日時', inplace=True)\n",
    "    # 文字列のみの行を削除\n",
    "    dft = dft[dft['約定単価[円]'] != '-']\n",
    "    # 文字列を数値に変換\n",
    "    dft['約定単価[円]'] = dft['約定単価[円]'].str.replace(',', '').astype(float)\n",
    "    dft['現在値[円]'] = dft['現在値[円]'].str.replace(',', '').astype(float)\n",
    "    try:\n",
    "        dft['約定数量[株/口]'] = dft['約定数量[株/口]'].str.replace(',','').astype(float)\n",
    "    except AttributeError:\n",
    "        pass  # '約定数量[株/口]'列が文字列を含まない場合、何もせずにスキップします\n",
    "    his = pd.concat([his, dft])\n",
    "\n",
    "his = his.drop_duplicates().sort_index(ascending=False)\n",
    "his.to_csv('./history/history.csv')\n",
    "his"
   ]
  },
  {
   "cell_type": "markdown",
   "metadata": {},
   "source": [
    "#### 最新の履歴の確認"
   ]
  },
  {
   "cell_type": "code",
   "execution_count": 168,
   "metadata": {},
   "outputs": [
    {
     "name": "stdout",
     "output_type": "stream",
     "text": [
      "今日の売買銘柄は{1: 'フジクラ', 2: '三井Ｅ＆Ｓ', 3: 'ソシオネクスト', 4: 'アドバンテスト', 5: 'ＴＯＷＡ', 6: 'アストロスケールホールディンク', 7: 'ＱＰＳ研究所'}\n",
      "今日の売買回数は46\n",
      "抽出する銘柄の番号を入力\n"
     ]
    }
   ],
   "source": [
    "# 今日の日付を取得\n",
    "today = datetime.now().date()\n",
    "this_week = datetime.now() - timedelta(weeks=1)\n",
    "\n",
    "# 今日の日付に該当するデータを抽出\n",
    "columns=['注文番号', '銘柄', '銘柄コード・市場', '取引', '売買', '約定数量[株/口]', '注文単価[円]', '約定単価[円]', '約定代金[円]']\n",
    "his.sort_index(inplace=True)\n",
    "today = his.loc['2024-06-06':][columns]    # 2024-06-03で試験固定\n",
    "\n",
    "# enumerateを使用してインデックスと要素のペアを取得し、辞書に変換\n",
    "companies_dict = {i: company for i, company in enumerate(today['銘柄'].unique(), 1)}\n",
    "\n",
    "print('今日の売買銘柄は' + str(companies_dict))\n",
    "print('今日の売買回数は' + str(len(today)))\n",
    "print('抽出する銘柄の番号を入力')\n",
    "ticker = input(companies_dict)\n",
    "# today[today['銘柄']==companies_dict[int(ticker)]]\n"
   ]
  },
  {
   "cell_type": "markdown",
   "metadata": {},
   "source": [
    "#### 分足データのDL"
   ]
  },
  {
   "cell_type": "code",
   "execution_count": 98,
   "metadata": {},
   "outputs": [
    {
     "name": "stdout",
     "output_type": "stream",
     "text": [
      "[*********************100%%**********************]  1 of 1 completed\n",
      "[*********************100%%**********************]  1 of 1 completed\n",
      "[*********************100%%**********************]  1 of 1 completed\n",
      "[*********************100%%**********************]  1 of 1 completed\n",
      "[*********************100%%**********************]  1 of 1 completed\n",
      "[*********************100%%**********************]  1 of 1 completed\n",
      "[*********************100%%**********************]  1 of 1 completed\n",
      "[*********************100%%**********************]  1 of 1 completed\n",
      "[*********************100%%**********************]  1 of 1 completed\n",
      "[*********************100%%**********************]  1 of 1 completed\n",
      "[*********************100%%**********************]  1 of 1 completed\n",
      "[*********************100%%**********************]  1 of 1 completed\n",
      "[*********************100%%**********************]  1 of 1 completed\n",
      "[*********************100%%**********************]  1 of 1 completed\n",
      "[*********************100%%**********************]  1 of 1 completed\n",
      "[*********************100%%**********************]  1 of 1 completed\n",
      "[*********************100%%**********************]  1 of 1 completed\n",
      "[*********************100%%**********************]  1 of 1 completed\n",
      "[*********************100%%**********************]  1 of 1 completed\n",
      "[*********************100%%**********************]  1 of 1 completed\n",
      "[*********************100%%**********************]  1 of 1 completed\n",
      "[*********************100%%**********************]  1 of 1 completed\n",
      "[*********************100%%**********************]  1 of 1 completed\n",
      "[*********************100%%**********************]  1 of 1 completed\n",
      "[*********************100%%**********************]  1 of 1 completed\n",
      "[*********************100%%**********************]  1 of 1 completed\n",
      "[*********************100%%**********************]  1 of 1 completed\n",
      "[*********************100%%**********************]  1 of 1 completed\n",
      "[*********************100%%**********************]  1 of 1 completed\n",
      "[*********************100%%**********************]  1 of 1 completed\n",
      "[*********************100%%**********************]  1 of 1 completed\n",
      "[*********************100%%**********************]  1 of 1 completed\n",
      "[*********************100%%**********************]  1 of 1 completed\n",
      "[*********************100%%**********************]  1 of 1 completed\n",
      "[*********************100%%**********************]  1 of 1 completed\n",
      "[*********************100%%**********************]  1 of 1 completed\n",
      "[*********************100%%**********************]  1 of 1 completed\n",
      "[*********************100%%**********************]  1 of 1 completed\n",
      "[*********************100%%**********************]  1 of 1 completed\n",
      "[*********************100%%**********************]  1 of 1 completed\n",
      "[*********************100%%**********************]  1 of 1 completed\n",
      "[*********************100%%**********************]  1 of 1 completed\n",
      "[*********************100%%**********************]  1 of 1 completed\n",
      "[*********************100%%**********************]  1 of 1 completed\n",
      "[*********************100%%**********************]  1 of 1 completed\n",
      "[*********************100%%**********************]  1 of 1 completed\n",
      "[*********************100%%**********************]  1 of 1 completed\n",
      "[*********************100%%**********************]  1 of 1 completed\n",
      "[*********************100%%**********************]  1 of 1 completed\n",
      "[*********************100%%**********************]  1 of 1 completed\n",
      "[*********************100%%**********************]  1 of 1 completed\n",
      "[*********************100%%**********************]  1 of 1 completed\n",
      "[*********************100%%**********************]  1 of 1 completed\n",
      "[*********************100%%**********************]  1 of 1 completed\n",
      "[*********************100%%**********************]  1 of 1 completed\n",
      "[*********************100%%**********************]  1 of 1 completed\n",
      "[*********************100%%**********************]  1 of 1 completed\n",
      "[*********************100%%**********************]  1 of 1 completed\n",
      "[*********************100%%**********************]  1 of 1 completed\n",
      "[*********************100%%**********************]  1 of 1 completed\n",
      "[*********************100%%**********************]  1 of 1 completed\n",
      "[*********************100%%**********************]  1 of 1 completed\n",
      "[*********************100%%**********************]  1 of 1 completed\n",
      "[*********************100%%**********************]  1 of 1 completed\n",
      "[*********************100%%**********************]  1 of 1 completed\n",
      "[*********************100%%**********************]  1 of 1 completed\n",
      "[*********************100%%**********************]  1 of 1 completed\n",
      "[*********************100%%**********************]  1 of 1 completed\n",
      "[*********************100%%**********************]  1 of 1 completed\n",
      "[*********************100%%**********************]  1 of 1 completed\n",
      "[*********************100%%**********************]  1 of 1 completed\n",
      "[*********************100%%**********************]  1 of 1 completed\n",
      "[*********************100%%**********************]  1 of 1 completed\n",
      "[*********************100%%**********************]  1 of 1 completed\n",
      "[*********************100%%**********************]  1 of 1 completed\n",
      "[*********************100%%**********************]  1 of 1 completed\n",
      "[*********************100%%**********************]  1 of 1 completed\n",
      "[*********************100%%**********************]  1 of 1 completed\n",
      "[*********************100%%**********************]  1 of 1 completed\n",
      "[*********************100%%**********************]  1 of 1 completed\n",
      "[*********************100%%**********************]  1 of 1 completed\n",
      "[*********************100%%**********************]  1 of 1 completed\n",
      "[*********************100%%**********************]  1 of 1 completed\n",
      "[*********************100%%**********************]  1 of 1 completed\n"
     ]
    }
   ],
   "source": [
    "# tickerリストの読み込み\n",
    "df = pd.read_csv('tickers.csv', index_col=0)\n",
    "df['code'] = df['code'].astype(str)\n",
    "ticker_dict = df.to_dict()['code']\n",
    "\n",
    "\n",
    "# 日付の取得\n",
    "past = datetime.now() - timedelta(10)\n",
    "past_str = past.strftime('%Y-%m-%d')\n",
    "\n",
    "for ticker in list(ticker_dict.values()):\n",
    "\n",
    "    # データの取得\n",
    "    data = yf.download(\n",
    "        tickers = ticker + '.T',\n",
    "        start = past_str,\n",
    "        )\n",
    "    data['delta'] = data['Close'].diff()\n",
    "    data['%'] = data['Close'].pct_change() * 100\n",
    "    data['Close_-1'] = data['Close'].shift()\n",
    "\n",
    "    df = yf.download(tickers=ticker + '.T',\n",
    "                    interval='1m',\n",
    "                    )\n",
    "\n",
    "    # 時間を追加\n",
    "    df['time'] = [t.time() for t in df.index]\n",
    "    df['day'] = [t.date() for t in df.index]\n",
    "\n",
    "    # close間の差を計算\n",
    "    df['delta'] = df['Close'].diff()\n",
    "    df['%'] = df['Close'].pct_change() * 100\n",
    "\n",
    "    # 前日との差を計算\n",
    "    df['Close_-1'] = df['day'].map(lambda x : data['Close_-1'][str(x)])\n",
    "    df['delta_yd'] = df['Close'] - df['Close_-1']\n",
    "    df['pct_yd'] = df['delta_yd']/df['Close_-1']*100\n",
    "\n",
    "    # SMAを計算 \n",
    "    df[\"SMA_short\"] = df[\"Close\"].rolling(window=10).mean() \n",
    "    df[\"SMA_middle\"] = df[\"Close\"].rolling(window=25).mean()\n",
    "    df[\"SMA_long\"] = df[\"Close\"].rolling(window=75).mean()\n",
    "\n",
    "    def macd(df):\n",
    "        FastEMA_period = 12  # 短期EMAの期間\n",
    "        SlowEMA_period = 26  # 長期EMAの期間\n",
    "        SignalSMA_period = 9  # SMAを取る期間\n",
    "        df[\"MACD\"] = df[\"Close\"].ewm(span=FastEMA_period).mean() - df[\"Close\"].ewm(span=SlowEMA_period).mean()\n",
    "        df[\"Signal\"] = df[\"MACD\"].rolling(SignalSMA_period).mean()\n",
    "        return df\n",
    "    \n",
    "\n",
    "    def rsi(df):\n",
    "        # 前日との差分を計算\n",
    "        df_diff = df[\"Close\"].diff(1)\n",
    "    \n",
    "        # 計算用のDataFrameを定義\n",
    "        df_up, df_down = df_diff.copy(), df_diff.copy()\n",
    "        \n",
    "        # df_upはマイナス値を0に変換\n",
    "        # df_downはプラス値を0に変換して正負反転\n",
    "        df_up[df_up < 0] = 0\n",
    "        df_down[df_down > 0] = 0\n",
    "        df_down = df_down * -1\n",
    "        \n",
    "        # 期間14でそれぞれの平均を算出\n",
    "        df_up_sma14 = df_up.rolling(window=14, center=False).mean()\n",
    "        df_down_sma14 = df_down.rolling(window=14, center=False).mean()\n",
    "    \n",
    "        # RSIを算出\n",
    "        df[\"RSI\"] = 100.0 * (df_up_sma14 / (df_up_sma14 + df_down_sma14))\n",
    "    \n",
    "        return df\n",
    "    \n",
    "    # MACDを計算する\n",
    "    df = macd(df)\n",
    "    \n",
    "    # RSIを算出\n",
    "    df = rsi(df)\n",
    "\n",
    "    # tickerをdfに追加\n",
    "    df['ticker'] = ticker\n",
    "\n",
    "    # 保存データとの結合\n",
    "    try:\n",
    "        df = pd.concat(\n",
    "            [pd.read_csv(\n",
    "                '~/Documents/trader/1min/' + ticker + '.csv',\n",
    "                parse_dates=['Datetime'], \n",
    "                index_col='Datetime'\n",
    "                ), \n",
    "            df])\n",
    "    except:\n",
    "        pass\n",
    "\n",
    "    # データを保存\n",
    "    df.drop_duplicates().to_csv('~/Documents/trader/1min/' + ticker + '.csv')\n",
    "\n",
    "\n",
    "for ticker in list(ticker_dict.values()):\n",
    "\n",
    "    # データの取得\n",
    "    df = yf.download(\n",
    "        tickers = ticker + '.T',\n",
    "        # start = past_str,\n",
    "        interval='1d'\n",
    "        )\n",
    "    df['delta'] = df['Close'].diff().fillna(0)\n",
    "    df['%'] = df['Close'].pct_change().fillna(0) * 100\n",
    "    df['Close_-1'] = df['Close'].shift().fillna(0)\n",
    "\n",
    "    # SMAを計算 \n",
    "    df[\"SMA_short\"] = df[\"Close\"].rolling(window=10).mean() \n",
    "    df[\"SMA_middle\"] = df[\"Close\"].rolling(window=25).mean()\n",
    "    df[\"SMA_long\"] = df[\"Close\"].rolling(window=75).mean()\n",
    "\n",
    "    def macd(df):\n",
    "        FastEMA_period = 12  # 短期EMAの期間\n",
    "        SlowEMA_period = 26  # 長期EMAの期間\n",
    "        SignalSMA_period = 9  # SMAを取る期間\n",
    "        df[\"MACD\"] = df[\"Close\"].ewm(span=FastEMA_period).mean() - df[\"Close\"].ewm(span=SlowEMA_period).mean()\n",
    "        df[\"Signal\"] = df[\"MACD\"].rolling(SignalSMA_period).mean()\n",
    "        return df\n",
    "    \n",
    "\n",
    "    def rsi(df):\n",
    "        # 前日との差分を計算\n",
    "        df_diff = df[\"Close\"].diff(1)\n",
    "    \n",
    "        # 計算用のDataFrameを定義\n",
    "        df_up, df_down = df_diff.copy(), df_diff.copy()\n",
    "        \n",
    "        # df_upはマイナス値を0に変換\n",
    "        # df_downはプラス値を0に変換して正負反転\n",
    "        df_up[df_up < 0] = 0\n",
    "        df_down[df_down > 0] = 0\n",
    "        df_down = df_down * -1\n",
    "        \n",
    "        # 期間14でそれぞれの平均を算出\n",
    "        df_up_sma14 = df_up.rolling(window=14, center=False).mean()\n",
    "        df_down_sma14 = df_down.rolling(window=14, center=False).mean()\n",
    "    \n",
    "        # RSIを算出\n",
    "        df[\"RSI\"] = 100.0 * (df_up_sma14 / (df_up_sma14 + df_down_sma14))\n",
    "    \n",
    "        return df\n",
    "    \n",
    "    # MACDを計算する\n",
    "    df = macd(df)\n",
    "    \n",
    "    # RSIを算出\n",
    "    df = rsi(df)\n",
    "\n",
    "    # tickerをdfに追加\n",
    "    df['ticker'] = ticker\n",
    "\n",
    "    # 保存データとの結合\n",
    "    try:\n",
    "        df = pd.concat(\n",
    "            [pd.read_csv(\n",
    "                './1day/' + ticker + '.csv',\n",
    "                parse_dates=['Datetime'], \n",
    "                index_col='Datetime'\n",
    "                ), \n",
    "            df])\n",
    "    except:\n",
    "        pass\n",
    "\n",
    "    # データを保存\n",
    "    df.drop_duplicates().to_csv('./1day/' + ticker + '.csv')"
   ]
  },
  {
   "cell_type": "code",
   "execution_count": 131,
   "metadata": {},
   "outputs": [
    {
     "data": {
      "text/html": [
       "<div>\n",
       "<style scoped>\n",
       "    .dataframe tbody tr th:only-of-type {\n",
       "        vertical-align: middle;\n",
       "    }\n",
       "\n",
       "    .dataframe tbody tr th {\n",
       "        vertical-align: top;\n",
       "    }\n",
       "\n",
       "    .dataframe thead th {\n",
       "        text-align: right;\n",
       "    }\n",
       "</style>\n",
       "<table border=\"1\" class=\"dataframe\">\n",
       "  <thead>\n",
       "    <tr style=\"text-align: right;\">\n",
       "      <th></th>\n",
       "      <th>code</th>\n",
       "    </tr>\n",
       "  </thead>\n",
       "  <tbody>\n",
       "    <tr>\n",
       "      <th>住石HD</th>\n",
       "      <td>1514</td>\n",
       "    </tr>\n",
       "    <tr>\n",
       "      <th>日経レバダブル</th>\n",
       "      <td>1579</td>\n",
       "    </tr>\n",
       "    <tr>\n",
       "      <th>霞ヶ関</th>\n",
       "      <td>3498</td>\n",
       "    </tr>\n",
       "    <tr>\n",
       "      <th>SHIFT</th>\n",
       "      <td>3697</td>\n",
       "    </tr>\n",
       "    <tr>\n",
       "      <th>さくらインターネット</th>\n",
       "      <td>3778</td>\n",
       "    </tr>\n",
       "    <tr>\n",
       "      <th>LABORO</th>\n",
       "      <td>5586</td>\n",
       "    </tr>\n",
       "    <tr>\n",
       "      <th>QPS</th>\n",
       "      <td>5595</td>\n",
       "    </tr>\n",
       "    <tr>\n",
       "      <th>リクルート</th>\n",
       "      <td>6098</td>\n",
       "    </tr>\n",
       "    <tr>\n",
       "      <th>ディスコ</th>\n",
       "      <td>6146</td>\n",
       "    </tr>\n",
       "    <tr>\n",
       "      <th>TOWA</th>\n",
       "      <td>6315</td>\n",
       "    </tr>\n",
       "    <tr>\n",
       "      <th>ソシオネクスト</th>\n",
       "      <td>6526</td>\n",
       "    </tr>\n",
       "    <tr>\n",
       "      <th>ルネサス</th>\n",
       "      <td>6723</td>\n",
       "    </tr>\n",
       "    <tr>\n",
       "      <th>アドバンテスト</th>\n",
       "      <td>6857</td>\n",
       "    </tr>\n",
       "    <tr>\n",
       "      <th>アルバック</th>\n",
       "      <td>6728</td>\n",
       "    </tr>\n",
       "    <tr>\n",
       "      <th>レーザーテック</th>\n",
       "      <td>6920</td>\n",
       "    </tr>\n",
       "    <tr>\n",
       "      <th>三井E&amp;S</th>\n",
       "      <td>7003</td>\n",
       "    </tr>\n",
       "    <tr>\n",
       "      <th>名村造船所</th>\n",
       "      <td>7014</td>\n",
       "    </tr>\n",
       "    <tr>\n",
       "      <th>SCREEN</th>\n",
       "      <td>7735</td>\n",
       "    </tr>\n",
       "    <tr>\n",
       "      <th>東京エレクトロン</th>\n",
       "      <td>8035</td>\n",
       "    </tr>\n",
       "    <tr>\n",
       "      <th>MUFG</th>\n",
       "      <td>8306</td>\n",
       "    </tr>\n",
       "    <tr>\n",
       "      <th>日本郵船</th>\n",
       "      <td>9101</td>\n",
       "    </tr>\n",
       "    <tr>\n",
       "      <th>川崎汽船</th>\n",
       "      <td>9107</td>\n",
       "    </tr>\n",
       "    <tr>\n",
       "      <th>売れるネット広告社</th>\n",
       "      <td>9235</td>\n",
       "    </tr>\n",
       "    <tr>\n",
       "      <th>ispace</th>\n",
       "      <td>9348</td>\n",
       "    </tr>\n",
       "    <tr>\n",
       "      <th>SBG</th>\n",
       "      <td>9984</td>\n",
       "    </tr>\n",
       "  </tbody>\n",
       "</table>\n",
       "</div>"
      ],
      "text/plain": [
       "            code\n",
       "住石HD        1514\n",
       "日経レバダブル     1579\n",
       "霞ヶ関         3498\n",
       "SHIFT       3697\n",
       "さくらインターネット  3778\n",
       "LABORO      5586\n",
       "QPS         5595\n",
       "リクルート       6098\n",
       "ディスコ        6146\n",
       "TOWA        6315\n",
       "ソシオネクスト     6526\n",
       "ルネサス        6723\n",
       "アドバンテスト     6857\n",
       "アルバック       6728\n",
       "レーザーテック     6920\n",
       "三井E&S       7003\n",
       "名村造船所       7014\n",
       "SCREEN      7735\n",
       "東京エレクトロン    8035\n",
       "MUFG        8306\n",
       "日本郵船        9101\n",
       "川崎汽船        9107\n",
       "売れるネット広告社   9235\n",
       "ispace      9348\n",
       "SBG         9984"
      ]
     },
     "execution_count": 131,
     "metadata": {},
     "output_type": "execute_result"
    }
   ],
   "source": [
    "# tickerリストの表示\n",
    "pd.read_csv('tickers.csv', index_col=0)"
   ]
  },
  {
   "cell_type": "markdown",
   "metadata": {},
   "source": [
    "### 取引履歴をチャート上にplot"
   ]
  },
  {
   "cell_type": "code",
   "execution_count": 169,
   "metadata": {},
   "outputs": [
    {
     "name": "stdout",
     "output_type": "stream",
     "text": [
      "今日の売買銘柄は{1: 'フジクラ', 2: '三井Ｅ＆Ｓ', 3: 'ソシオネクスト', 4: 'アドバンテスト', 5: 'ＴＯＷＡ', 6: 'アストロスケールホールディンク', 7: 'ＱＰＳ研究所'}\n",
      "抽出する銘柄の番号を入力\n"
     ]
    }
   ],
   "source": [
    "# 取引銘柄選択\n",
    "print('今日の売買銘柄は' + str(companies_dict))\n",
    "print('抽出する銘柄の番号を入力')\n",
    "ticker = input(companies_dict)\n",
    "today = today[today['銘柄']==companies_dict[int(ticker)]]\n",
    "# today"
   ]
  },
  {
   "cell_type": "code",
   "execution_count": 170,
   "metadata": {},
   "outputs": [],
   "source": [
    "# 2024-06-03 09:00から10:00のデータを抽出\n",
    "# ticker codeの抽出\n",
    "ticker_list = pd.read_csv('tickers.csv', index_col=0)\n",
    "code = ticker_list[ticker_list.index==companies_dict[int(ticker)]]['code'].iloc[0]\n",
    "\n",
    "# 分足データの読み込み\n",
    "csv = './1min/' + str(code) + '.csv'\n",
    "df = pd.read_csv(csv, parse_dates=['Datetime'], index_col='Datetime')\n",
    "\n",
    "# 9時から10時を抽出\n",
    "# df.loc['2024-06-06'].between_time('09:00', '10:00')\n"
   ]
  },
  {
   "cell_type": "code",
   "execution_count": 171,
   "metadata": {},
   "outputs": [
    {
     "data": {
      "application/vnd.plotly.v1+json": {
       "config": {
        "plotlyServerURL": "https://plot.ly"
       },
       "data": [
        {
         "close": [
          2635,
          2603,
          2596,
          2553,
          2572,
          2552,
          2558,
          2536,
          2522,
          2563,
          2580,
          2563,
          2578,
          2578,
          2581,
          2581,
          2567,
          2554,
          2541,
          2530,
          2524,
          2537,
          2565,
          2560,
          2571,
          2582,
          2578,
          2572,
          2582,
          2576,
          2572,
          2576,
          2553,
          2561,
          2553,
          2547,
          2553,
          2555,
          2531,
          2535,
          2527,
          2526,
          2528,
          2525,
          2535,
          2517,
          2525,
          2527,
          2538,
          2528,
          2493,
          2488,
          2469,
          2463,
          2462,
          2635,
          2603,
          2596,
          2553,
          2572,
          2552,
          2558,
          2536,
          2522,
          2563,
          2580,
          2563,
          2578,
          2578,
          2581,
          2581,
          2567,
          2554,
          2541,
          2530,
          2524,
          2537,
          2565,
          2560,
          2571,
          2582,
          2578,
          2572,
          2582,
          2576,
          2572,
          2576,
          2553,
          2561,
          2553,
          2547,
          2553,
          2555,
          2531,
          2535,
          2527,
          2526,
          2528,
          2525,
          2535,
          2517,
          2525,
          2527,
          2538,
          2528,
          2493,
          2488,
          2469,
          2463,
          2462
         ],
         "high": [
          2663,
          2654,
          2606,
          2596,
          2589,
          2579,
          2571,
          2568,
          2549,
          2564,
          2585,
          2588,
          2583,
          2580,
          2593,
          2584,
          2582,
          2571,
          2557,
          2553,
          2535,
          2537,
          2565,
          2566,
          2573,
          2584,
          2591,
          2582,
          2584,
          2589,
          2582,
          2580,
          2590,
          2564,
          2564,
          2553,
          2556,
          2559,
          2555,
          2540,
          2542,
          2530,
          2529,
          2534,
          2535,
          2541,
          2526,
          2530,
          2539,
          2537,
          2529,
          2491,
          2490,
          2480,
          2470,
          2663,
          2654,
          2606,
          2596,
          2589,
          2579,
          2571,
          2568,
          2549,
          2564,
          2585,
          2588,
          2583,
          2580,
          2593,
          2584,
          2582,
          2571,
          2557,
          2553,
          2535,
          2537,
          2565,
          2566,
          2573,
          2584,
          2591,
          2582,
          2584,
          2589,
          2582,
          2580,
          2590,
          2564,
          2564,
          2553,
          2556,
          2559,
          2555,
          2540,
          2542,
          2530,
          2529,
          2534,
          2535,
          2541,
          2526,
          2530,
          2539,
          2537,
          2529,
          2491,
          2490,
          2480,
          2470
         ],
         "low": [
          2625,
          2600,
          2555,
          2532,
          2553,
          2552,
          2550,
          2521,
          2510,
          2516,
          2561,
          2559,
          2565,
          2562,
          2574,
          2572,
          2564,
          2550,
          2537,
          2530,
          2521,
          2525,
          2537,
          2555,
          2558,
          2565,
          2577,
          2563,
          2572,
          2574,
          2572,
          2566,
          2550,
          2550,
          2551,
          2545,
          2546,
          2552,
          2531,
          2532,
          2526,
          2525,
          2517,
          2523,
          2526,
          2510,
          2510,
          2524,
          2528,
          2526,
          2490,
          2486,
          2468,
          2456,
          2450,
          2625,
          2600,
          2555,
          2532,
          2553,
          2552,
          2550,
          2521,
          2510,
          2516,
          2561,
          2559,
          2565,
          2562,
          2574,
          2572,
          2564,
          2550,
          2537,
          2530,
          2521,
          2525,
          2537,
          2555,
          2558,
          2565,
          2577,
          2563,
          2572,
          2574,
          2572,
          2566,
          2550,
          2550,
          2551,
          2545,
          2546,
          2552,
          2531,
          2532,
          2526,
          2525,
          2517,
          2523,
          2526,
          2510,
          2510,
          2524,
          2528,
          2526,
          2490,
          2486,
          2468,
          2456,
          2450
         ],
         "open": [
          2661,
          2630,
          2602,
          2594,
          2555,
          2570,
          2554,
          2560,
          2531,
          2519,
          2565,
          2581,
          2565,
          2575,
          2579,
          2581,
          2580,
          2567,
          2556,
          2541,
          2530,
          2525,
          2537,
          2565,
          2560,
          2572,
          2584,
          2576,
          2572,
          2582,
          2578,
          2571,
          2575,
          2552,
          2561,
          2553,
          2546,
          2554,
          2555,
          2532,
          2535,
          2527,
          2527,
          2527,
          2528,
          2538,
          2516,
          2526,
          2528,
          2537,
          2527,
          2486,
          2489,
          2472,
          2463,
          2661,
          2630,
          2602,
          2594,
          2555,
          2570,
          2554,
          2560,
          2531,
          2519,
          2565,
          2581,
          2565,
          2575,
          2579,
          2581,
          2580,
          2567,
          2556,
          2541,
          2530,
          2525,
          2537,
          2565,
          2560,
          2572,
          2584,
          2576,
          2572,
          2582,
          2578,
          2571,
          2575,
          2552,
          2561,
          2553,
          2546,
          2554,
          2555,
          2532,
          2535,
          2527,
          2527,
          2527,
          2528,
          2538,
          2516,
          2526,
          2528,
          2537,
          2527,
          2486,
          2489,
          2472,
          2463
         ],
         "type": "candlestick",
         "x": [
          "2024-06-06T09:06:00+09:00",
          "2024-06-06T09:07:00+09:00",
          "2024-06-06T09:08:00+09:00",
          "2024-06-06T09:09:00+09:00",
          "2024-06-06T09:10:00+09:00",
          "2024-06-06T09:11:00+09:00",
          "2024-06-06T09:12:00+09:00",
          "2024-06-06T09:13:00+09:00",
          "2024-06-06T09:14:00+09:00",
          "2024-06-06T09:15:00+09:00",
          "2024-06-06T09:16:00+09:00",
          "2024-06-06T09:17:00+09:00",
          "2024-06-06T09:18:00+09:00",
          "2024-06-06T09:19:00+09:00",
          "2024-06-06T09:20:00+09:00",
          "2024-06-06T09:21:00+09:00",
          "2024-06-06T09:22:00+09:00",
          "2024-06-06T09:23:00+09:00",
          "2024-06-06T09:24:00+09:00",
          "2024-06-06T09:25:00+09:00",
          "2024-06-06T09:26:00+09:00",
          "2024-06-06T09:27:00+09:00",
          "2024-06-06T09:28:00+09:00",
          "2024-06-06T09:29:00+09:00",
          "2024-06-06T09:30:00+09:00",
          "2024-06-06T09:31:00+09:00",
          "2024-06-06T09:32:00+09:00",
          "2024-06-06T09:33:00+09:00",
          "2024-06-06T09:34:00+09:00",
          "2024-06-06T09:35:00+09:00",
          "2024-06-06T09:36:00+09:00",
          "2024-06-06T09:37:00+09:00",
          "2024-06-06T09:38:00+09:00",
          "2024-06-06T09:39:00+09:00",
          "2024-06-06T09:40:00+09:00",
          "2024-06-06T09:41:00+09:00",
          "2024-06-06T09:42:00+09:00",
          "2024-06-06T09:43:00+09:00",
          "2024-06-06T09:44:00+09:00",
          "2024-06-06T09:45:00+09:00",
          "2024-06-06T09:46:00+09:00",
          "2024-06-06T09:47:00+09:00",
          "2024-06-06T09:48:00+09:00",
          "2024-06-06T09:49:00+09:00",
          "2024-06-06T09:50:00+09:00",
          "2024-06-06T09:51:00+09:00",
          "2024-06-06T09:52:00+09:00",
          "2024-06-06T09:53:00+09:00",
          "2024-06-06T09:54:00+09:00",
          "2024-06-06T09:55:00+09:00",
          "2024-06-06T09:56:00+09:00",
          "2024-06-06T09:57:00+09:00",
          "2024-06-06T09:58:00+09:00",
          "2024-06-06T09:59:00+09:00",
          "2024-06-06T10:00:00+09:00",
          "2024-06-06T09:06:00+09:00",
          "2024-06-06T09:07:00+09:00",
          "2024-06-06T09:08:00+09:00",
          "2024-06-06T09:09:00+09:00",
          "2024-06-06T09:10:00+09:00",
          "2024-06-06T09:11:00+09:00",
          "2024-06-06T09:12:00+09:00",
          "2024-06-06T09:13:00+09:00",
          "2024-06-06T09:14:00+09:00",
          "2024-06-06T09:15:00+09:00",
          "2024-06-06T09:16:00+09:00",
          "2024-06-06T09:17:00+09:00",
          "2024-06-06T09:18:00+09:00",
          "2024-06-06T09:19:00+09:00",
          "2024-06-06T09:20:00+09:00",
          "2024-06-06T09:21:00+09:00",
          "2024-06-06T09:22:00+09:00",
          "2024-06-06T09:23:00+09:00",
          "2024-06-06T09:24:00+09:00",
          "2024-06-06T09:25:00+09:00",
          "2024-06-06T09:26:00+09:00",
          "2024-06-06T09:27:00+09:00",
          "2024-06-06T09:28:00+09:00",
          "2024-06-06T09:29:00+09:00",
          "2024-06-06T09:30:00+09:00",
          "2024-06-06T09:31:00+09:00",
          "2024-06-06T09:32:00+09:00",
          "2024-06-06T09:33:00+09:00",
          "2024-06-06T09:34:00+09:00",
          "2024-06-06T09:35:00+09:00",
          "2024-06-06T09:36:00+09:00",
          "2024-06-06T09:37:00+09:00",
          "2024-06-06T09:38:00+09:00",
          "2024-06-06T09:39:00+09:00",
          "2024-06-06T09:40:00+09:00",
          "2024-06-06T09:41:00+09:00",
          "2024-06-06T09:42:00+09:00",
          "2024-06-06T09:43:00+09:00",
          "2024-06-06T09:44:00+09:00",
          "2024-06-06T09:45:00+09:00",
          "2024-06-06T09:46:00+09:00",
          "2024-06-06T09:47:00+09:00",
          "2024-06-06T09:48:00+09:00",
          "2024-06-06T09:49:00+09:00",
          "2024-06-06T09:50:00+09:00",
          "2024-06-06T09:51:00+09:00",
          "2024-06-06T09:52:00+09:00",
          "2024-06-06T09:53:00+09:00",
          "2024-06-06T09:54:00+09:00",
          "2024-06-06T09:55:00+09:00",
          "2024-06-06T09:56:00+09:00",
          "2024-06-06T09:57:00+09:00",
          "2024-06-06T09:58:00+09:00",
          "2024-06-06T09:59:00+09:00",
          "2024-06-06T10:00:00+09:00"
         ],
         "xaxis": "x",
         "yaxis": "y"
        },
        {
         "marker": {
          "color": [
           "green",
           "green",
           "green",
           "green",
           "green",
           "green",
           "green",
           "green"
          ],
          "size": [
           100,
           100,
           200,
           100,
           100,
           100,
           100,
           400
          ],
          "sizemin": 1,
          "sizemode": "area",
          "sizeref": 2,
          "symbol": [
           "triangle-up",
           "triangle-up",
           "circle",
           "triangle-up",
           "triangle-up",
           "triangle-up",
           "triangle-up",
           "circle"
          ]
         },
         "mode": "markers",
         "type": "scatter",
         "x": [
          "2024-06-06T12:43:00",
          "2024-06-06T12:44:00",
          "2024-06-06T12:45:00",
          "2024-06-06T12:47:00",
          "2024-06-06T12:47:00",
          "2024-06-06T12:47:00",
          "2024-06-06T12:47:00",
          "2024-06-06T12:48:00"
         ],
         "xaxis": "x",
         "y": [
          2441.8,
          2438.8,
          2447.6,
          2427,
          2426,
          2423,
          2425,
          2432.1
         ],
         "yaxis": "y"
        },
        {
         "type": "bar",
         "x": [
          "2024-06-06T09:06:00+09:00",
          "2024-06-06T09:07:00+09:00",
          "2024-06-06T09:08:00+09:00",
          "2024-06-06T09:09:00+09:00",
          "2024-06-06T09:10:00+09:00",
          "2024-06-06T09:11:00+09:00",
          "2024-06-06T09:12:00+09:00",
          "2024-06-06T09:13:00+09:00",
          "2024-06-06T09:14:00+09:00",
          "2024-06-06T09:15:00+09:00",
          "2024-06-06T09:16:00+09:00",
          "2024-06-06T09:17:00+09:00",
          "2024-06-06T09:18:00+09:00",
          "2024-06-06T09:19:00+09:00",
          "2024-06-06T09:20:00+09:00",
          "2024-06-06T09:21:00+09:00",
          "2024-06-06T09:22:00+09:00",
          "2024-06-06T09:23:00+09:00",
          "2024-06-06T09:24:00+09:00",
          "2024-06-06T09:25:00+09:00",
          "2024-06-06T09:26:00+09:00",
          "2024-06-06T09:27:00+09:00",
          "2024-06-06T09:28:00+09:00",
          "2024-06-06T09:29:00+09:00",
          "2024-06-06T09:30:00+09:00",
          "2024-06-06T09:31:00+09:00",
          "2024-06-06T09:32:00+09:00",
          "2024-06-06T09:33:00+09:00",
          "2024-06-06T09:34:00+09:00",
          "2024-06-06T09:35:00+09:00",
          "2024-06-06T09:36:00+09:00",
          "2024-06-06T09:37:00+09:00",
          "2024-06-06T09:38:00+09:00",
          "2024-06-06T09:39:00+09:00",
          "2024-06-06T09:40:00+09:00",
          "2024-06-06T09:41:00+09:00",
          "2024-06-06T09:42:00+09:00",
          "2024-06-06T09:43:00+09:00",
          "2024-06-06T09:44:00+09:00",
          "2024-06-06T09:45:00+09:00",
          "2024-06-06T09:46:00+09:00",
          "2024-06-06T09:47:00+09:00",
          "2024-06-06T09:48:00+09:00",
          "2024-06-06T09:49:00+09:00",
          "2024-06-06T09:50:00+09:00",
          "2024-06-06T09:51:00+09:00",
          "2024-06-06T09:52:00+09:00",
          "2024-06-06T09:53:00+09:00",
          "2024-06-06T09:54:00+09:00",
          "2024-06-06T09:55:00+09:00",
          "2024-06-06T09:56:00+09:00",
          "2024-06-06T09:57:00+09:00",
          "2024-06-06T09:58:00+09:00",
          "2024-06-06T09:59:00+09:00",
          "2024-06-06T10:00:00+09:00",
          "2024-06-06T09:06:00+09:00",
          "2024-06-06T09:07:00+09:00",
          "2024-06-06T09:08:00+09:00",
          "2024-06-06T09:09:00+09:00",
          "2024-06-06T09:10:00+09:00",
          "2024-06-06T09:11:00+09:00",
          "2024-06-06T09:12:00+09:00",
          "2024-06-06T09:13:00+09:00",
          "2024-06-06T09:14:00+09:00",
          "2024-06-06T09:15:00+09:00",
          "2024-06-06T09:16:00+09:00",
          "2024-06-06T09:17:00+09:00",
          "2024-06-06T09:18:00+09:00",
          "2024-06-06T09:19:00+09:00",
          "2024-06-06T09:20:00+09:00",
          "2024-06-06T09:21:00+09:00",
          "2024-06-06T09:22:00+09:00",
          "2024-06-06T09:23:00+09:00",
          "2024-06-06T09:24:00+09:00",
          "2024-06-06T09:25:00+09:00",
          "2024-06-06T09:26:00+09:00",
          "2024-06-06T09:27:00+09:00",
          "2024-06-06T09:28:00+09:00",
          "2024-06-06T09:29:00+09:00",
          "2024-06-06T09:30:00+09:00",
          "2024-06-06T09:31:00+09:00",
          "2024-06-06T09:32:00+09:00",
          "2024-06-06T09:33:00+09:00",
          "2024-06-06T09:34:00+09:00",
          "2024-06-06T09:35:00+09:00",
          "2024-06-06T09:36:00+09:00",
          "2024-06-06T09:37:00+09:00",
          "2024-06-06T09:38:00+09:00",
          "2024-06-06T09:39:00+09:00",
          "2024-06-06T09:40:00+09:00",
          "2024-06-06T09:41:00+09:00",
          "2024-06-06T09:42:00+09:00",
          "2024-06-06T09:43:00+09:00",
          "2024-06-06T09:44:00+09:00",
          "2024-06-06T09:45:00+09:00",
          "2024-06-06T09:46:00+09:00",
          "2024-06-06T09:47:00+09:00",
          "2024-06-06T09:48:00+09:00",
          "2024-06-06T09:49:00+09:00",
          "2024-06-06T09:50:00+09:00",
          "2024-06-06T09:51:00+09:00",
          "2024-06-06T09:52:00+09:00",
          "2024-06-06T09:53:00+09:00",
          "2024-06-06T09:54:00+09:00",
          "2024-06-06T09:55:00+09:00",
          "2024-06-06T09:56:00+09:00",
          "2024-06-06T09:57:00+09:00",
          "2024-06-06T09:58:00+09:00",
          "2024-06-06T09:59:00+09:00",
          "2024-06-06T10:00:00+09:00"
         ],
         "xaxis": "x2",
         "y": [
          243000,
          85400,
          149300,
          91300,
          55000,
          51400,
          43600,
          85800,
          55400,
          45700,
          43600,
          32800,
          24100,
          13700,
          30600,
          22700,
          20700,
          33600,
          45800,
          37800,
          44800,
          19500,
          21700,
          15100,
          25200,
          38700,
          34400,
          16800,
          11300,
          12800,
          10300,
          16500,
          39900,
          8400,
          6200,
          13400,
          3800,
          11300,
          22700,
          8000,
          22700,
          7900,
          28600,
          14700,
          7500,
          50900,
          20000,
          8200,
          21700,
          4000,
          106100,
          63800,
          56200,
          42700,
          47200,
          243000,
          85400,
          149300,
          91300,
          55000,
          51400,
          43600,
          85800,
          55400,
          45700,
          43600,
          32800,
          24100,
          13700,
          30600,
          22700,
          20700,
          33600,
          45800,
          37800,
          44800,
          19500,
          21700,
          15100,
          25200,
          38700,
          34400,
          16800,
          11300,
          12800,
          10300,
          16500,
          39900,
          8400,
          6200,
          13400,
          3800,
          11300,
          22700,
          8000,
          22700,
          7900,
          28600,
          14700,
          7500,
          50900,
          20000,
          8200,
          21700,
          4000,
          106100,
          63800,
          56200,
          42700,
          47200
         ],
         "yaxis": "y2"
        }
       ],
       "layout": {
        "annotations": [
         {
          "font": {
           "size": 16
          },
          "showarrow": false,
          "text": "ローソク足",
          "x": 0.5,
          "xanchor": "center",
          "xref": "paper",
          "y": 1,
          "yanchor": "bottom",
          "yref": "paper"
         },
         {
          "font": {
           "size": 16
          },
          "showarrow": false,
          "text": "取引量",
          "x": 0.5,
          "xanchor": "center",
          "xref": "paper",
          "y": 0.21555555555555558,
          "yanchor": "bottom",
          "yref": "paper"
         }
        ],
        "height": 600,
        "template": {
         "data": {
          "bar": [
           {
            "error_x": {
             "color": "#2a3f5f"
            },
            "error_y": {
             "color": "#2a3f5f"
            },
            "marker": {
             "line": {
              "color": "#E5ECF6",
              "width": 0.5
             },
             "pattern": {
              "fillmode": "overlay",
              "size": 10,
              "solidity": 0.2
             }
            },
            "type": "bar"
           }
          ],
          "barpolar": [
           {
            "marker": {
             "line": {
              "color": "#E5ECF6",
              "width": 0.5
             },
             "pattern": {
              "fillmode": "overlay",
              "size": 10,
              "solidity": 0.2
             }
            },
            "type": "barpolar"
           }
          ],
          "carpet": [
           {
            "aaxis": {
             "endlinecolor": "#2a3f5f",
             "gridcolor": "white",
             "linecolor": "white",
             "minorgridcolor": "white",
             "startlinecolor": "#2a3f5f"
            },
            "baxis": {
             "endlinecolor": "#2a3f5f",
             "gridcolor": "white",
             "linecolor": "white",
             "minorgridcolor": "white",
             "startlinecolor": "#2a3f5f"
            },
            "type": "carpet"
           }
          ],
          "choropleth": [
           {
            "colorbar": {
             "outlinewidth": 0,
             "ticks": ""
            },
            "type": "choropleth"
           }
          ],
          "contour": [
           {
            "colorbar": {
             "outlinewidth": 0,
             "ticks": ""
            },
            "colorscale": [
             [
              0,
              "#0d0887"
             ],
             [
              0.1111111111111111,
              "#46039f"
             ],
             [
              0.2222222222222222,
              "#7201a8"
             ],
             [
              0.3333333333333333,
              "#9c179e"
             ],
             [
              0.4444444444444444,
              "#bd3786"
             ],
             [
              0.5555555555555556,
              "#d8576b"
             ],
             [
              0.6666666666666666,
              "#ed7953"
             ],
             [
              0.7777777777777778,
              "#fb9f3a"
             ],
             [
              0.8888888888888888,
              "#fdca26"
             ],
             [
              1,
              "#f0f921"
             ]
            ],
            "type": "contour"
           }
          ],
          "contourcarpet": [
           {
            "colorbar": {
             "outlinewidth": 0,
             "ticks": ""
            },
            "type": "contourcarpet"
           }
          ],
          "heatmap": [
           {
            "colorbar": {
             "outlinewidth": 0,
             "ticks": ""
            },
            "colorscale": [
             [
              0,
              "#0d0887"
             ],
             [
              0.1111111111111111,
              "#46039f"
             ],
             [
              0.2222222222222222,
              "#7201a8"
             ],
             [
              0.3333333333333333,
              "#9c179e"
             ],
             [
              0.4444444444444444,
              "#bd3786"
             ],
             [
              0.5555555555555556,
              "#d8576b"
             ],
             [
              0.6666666666666666,
              "#ed7953"
             ],
             [
              0.7777777777777778,
              "#fb9f3a"
             ],
             [
              0.8888888888888888,
              "#fdca26"
             ],
             [
              1,
              "#f0f921"
             ]
            ],
            "type": "heatmap"
           }
          ],
          "heatmapgl": [
           {
            "colorbar": {
             "outlinewidth": 0,
             "ticks": ""
            },
            "colorscale": [
             [
              0,
              "#0d0887"
             ],
             [
              0.1111111111111111,
              "#46039f"
             ],
             [
              0.2222222222222222,
              "#7201a8"
             ],
             [
              0.3333333333333333,
              "#9c179e"
             ],
             [
              0.4444444444444444,
              "#bd3786"
             ],
             [
              0.5555555555555556,
              "#d8576b"
             ],
             [
              0.6666666666666666,
              "#ed7953"
             ],
             [
              0.7777777777777778,
              "#fb9f3a"
             ],
             [
              0.8888888888888888,
              "#fdca26"
             ],
             [
              1,
              "#f0f921"
             ]
            ],
            "type": "heatmapgl"
           }
          ],
          "histogram": [
           {
            "marker": {
             "pattern": {
              "fillmode": "overlay",
              "size": 10,
              "solidity": 0.2
             }
            },
            "type": "histogram"
           }
          ],
          "histogram2d": [
           {
            "colorbar": {
             "outlinewidth": 0,
             "ticks": ""
            },
            "colorscale": [
             [
              0,
              "#0d0887"
             ],
             [
              0.1111111111111111,
              "#46039f"
             ],
             [
              0.2222222222222222,
              "#7201a8"
             ],
             [
              0.3333333333333333,
              "#9c179e"
             ],
             [
              0.4444444444444444,
              "#bd3786"
             ],
             [
              0.5555555555555556,
              "#d8576b"
             ],
             [
              0.6666666666666666,
              "#ed7953"
             ],
             [
              0.7777777777777778,
              "#fb9f3a"
             ],
             [
              0.8888888888888888,
              "#fdca26"
             ],
             [
              1,
              "#f0f921"
             ]
            ],
            "type": "histogram2d"
           }
          ],
          "histogram2dcontour": [
           {
            "colorbar": {
             "outlinewidth": 0,
             "ticks": ""
            },
            "colorscale": [
             [
              0,
              "#0d0887"
             ],
             [
              0.1111111111111111,
              "#46039f"
             ],
             [
              0.2222222222222222,
              "#7201a8"
             ],
             [
              0.3333333333333333,
              "#9c179e"
             ],
             [
              0.4444444444444444,
              "#bd3786"
             ],
             [
              0.5555555555555556,
              "#d8576b"
             ],
             [
              0.6666666666666666,
              "#ed7953"
             ],
             [
              0.7777777777777778,
              "#fb9f3a"
             ],
             [
              0.8888888888888888,
              "#fdca26"
             ],
             [
              1,
              "#f0f921"
             ]
            ],
            "type": "histogram2dcontour"
           }
          ],
          "mesh3d": [
           {
            "colorbar": {
             "outlinewidth": 0,
             "ticks": ""
            },
            "type": "mesh3d"
           }
          ],
          "parcoords": [
           {
            "line": {
             "colorbar": {
              "outlinewidth": 0,
              "ticks": ""
             }
            },
            "type": "parcoords"
           }
          ],
          "pie": [
           {
            "automargin": true,
            "type": "pie"
           }
          ],
          "scatter": [
           {
            "fillpattern": {
             "fillmode": "overlay",
             "size": 10,
             "solidity": 0.2
            },
            "type": "scatter"
           }
          ],
          "scatter3d": [
           {
            "line": {
             "colorbar": {
              "outlinewidth": 0,
              "ticks": ""
             }
            },
            "marker": {
             "colorbar": {
              "outlinewidth": 0,
              "ticks": ""
             }
            },
            "type": "scatter3d"
           }
          ],
          "scattercarpet": [
           {
            "marker": {
             "colorbar": {
              "outlinewidth": 0,
              "ticks": ""
             }
            },
            "type": "scattercarpet"
           }
          ],
          "scattergeo": [
           {
            "marker": {
             "colorbar": {
              "outlinewidth": 0,
              "ticks": ""
             }
            },
            "type": "scattergeo"
           }
          ],
          "scattergl": [
           {
            "marker": {
             "colorbar": {
              "outlinewidth": 0,
              "ticks": ""
             }
            },
            "type": "scattergl"
           }
          ],
          "scattermapbox": [
           {
            "marker": {
             "colorbar": {
              "outlinewidth": 0,
              "ticks": ""
             }
            },
            "type": "scattermapbox"
           }
          ],
          "scatterpolar": [
           {
            "marker": {
             "colorbar": {
              "outlinewidth": 0,
              "ticks": ""
             }
            },
            "type": "scatterpolar"
           }
          ],
          "scatterpolargl": [
           {
            "marker": {
             "colorbar": {
              "outlinewidth": 0,
              "ticks": ""
             }
            },
            "type": "scatterpolargl"
           }
          ],
          "scatterternary": [
           {
            "marker": {
             "colorbar": {
              "outlinewidth": 0,
              "ticks": ""
             }
            },
            "type": "scatterternary"
           }
          ],
          "surface": [
           {
            "colorbar": {
             "outlinewidth": 0,
             "ticks": ""
            },
            "colorscale": [
             [
              0,
              "#0d0887"
             ],
             [
              0.1111111111111111,
              "#46039f"
             ],
             [
              0.2222222222222222,
              "#7201a8"
             ],
             [
              0.3333333333333333,
              "#9c179e"
             ],
             [
              0.4444444444444444,
              "#bd3786"
             ],
             [
              0.5555555555555556,
              "#d8576b"
             ],
             [
              0.6666666666666666,
              "#ed7953"
             ],
             [
              0.7777777777777778,
              "#fb9f3a"
             ],
             [
              0.8888888888888888,
              "#fdca26"
             ],
             [
              1,
              "#f0f921"
             ]
            ],
            "type": "surface"
           }
          ],
          "table": [
           {
            "cells": {
             "fill": {
              "color": "#EBF0F8"
             },
             "line": {
              "color": "white"
             }
            },
            "header": {
             "fill": {
              "color": "#C8D4E3"
             },
             "line": {
              "color": "white"
             }
            },
            "type": "table"
           }
          ]
         },
         "layout": {
          "annotationdefaults": {
           "arrowcolor": "#2a3f5f",
           "arrowhead": 0,
           "arrowwidth": 1
          },
          "autotypenumbers": "strict",
          "coloraxis": {
           "colorbar": {
            "outlinewidth": 0,
            "ticks": ""
           }
          },
          "colorscale": {
           "diverging": [
            [
             0,
             "#8e0152"
            ],
            [
             0.1,
             "#c51b7d"
            ],
            [
             0.2,
             "#de77ae"
            ],
            [
             0.3,
             "#f1b6da"
            ],
            [
             0.4,
             "#fde0ef"
            ],
            [
             0.5,
             "#f7f7f7"
            ],
            [
             0.6,
             "#e6f5d0"
            ],
            [
             0.7,
             "#b8e186"
            ],
            [
             0.8,
             "#7fbc41"
            ],
            [
             0.9,
             "#4d9221"
            ],
            [
             1,
             "#276419"
            ]
           ],
           "sequential": [
            [
             0,
             "#0d0887"
            ],
            [
             0.1111111111111111,
             "#46039f"
            ],
            [
             0.2222222222222222,
             "#7201a8"
            ],
            [
             0.3333333333333333,
             "#9c179e"
            ],
            [
             0.4444444444444444,
             "#bd3786"
            ],
            [
             0.5555555555555556,
             "#d8576b"
            ],
            [
             0.6666666666666666,
             "#ed7953"
            ],
            [
             0.7777777777777778,
             "#fb9f3a"
            ],
            [
             0.8888888888888888,
             "#fdca26"
            ],
            [
             1,
             "#f0f921"
            ]
           ],
           "sequentialminus": [
            [
             0,
             "#0d0887"
            ],
            [
             0.1111111111111111,
             "#46039f"
            ],
            [
             0.2222222222222222,
             "#7201a8"
            ],
            [
             0.3333333333333333,
             "#9c179e"
            ],
            [
             0.4444444444444444,
             "#bd3786"
            ],
            [
             0.5555555555555556,
             "#d8576b"
            ],
            [
             0.6666666666666666,
             "#ed7953"
            ],
            [
             0.7777777777777778,
             "#fb9f3a"
            ],
            [
             0.8888888888888888,
             "#fdca26"
            ],
            [
             1,
             "#f0f921"
            ]
           ]
          },
          "colorway": [
           "#636efa",
           "#EF553B",
           "#00cc96",
           "#ab63fa",
           "#FFA15A",
           "#19d3f3",
           "#FF6692",
           "#B6E880",
           "#FF97FF",
           "#FECB52"
          ],
          "font": {
           "color": "#2a3f5f"
          },
          "geo": {
           "bgcolor": "white",
           "lakecolor": "white",
           "landcolor": "#E5ECF6",
           "showlakes": true,
           "showland": true,
           "subunitcolor": "white"
          },
          "hoverlabel": {
           "align": "left"
          },
          "hovermode": "closest",
          "mapbox": {
           "style": "light"
          },
          "paper_bgcolor": "white",
          "plot_bgcolor": "#E5ECF6",
          "polar": {
           "angularaxis": {
            "gridcolor": "white",
            "linecolor": "white",
            "ticks": ""
           },
           "bgcolor": "#E5ECF6",
           "radialaxis": {
            "gridcolor": "white",
            "linecolor": "white",
            "ticks": ""
           }
          },
          "scene": {
           "xaxis": {
            "backgroundcolor": "#E5ECF6",
            "gridcolor": "white",
            "gridwidth": 2,
            "linecolor": "white",
            "showbackground": true,
            "ticks": "",
            "zerolinecolor": "white"
           },
           "yaxis": {
            "backgroundcolor": "#E5ECF6",
            "gridcolor": "white",
            "gridwidth": 2,
            "linecolor": "white",
            "showbackground": true,
            "ticks": "",
            "zerolinecolor": "white"
           },
           "zaxis": {
            "backgroundcolor": "#E5ECF6",
            "gridcolor": "white",
            "gridwidth": 2,
            "linecolor": "white",
            "showbackground": true,
            "ticks": "",
            "zerolinecolor": "white"
           }
          },
          "shapedefaults": {
           "line": {
            "color": "#2a3f5f"
           }
          },
          "ternary": {
           "aaxis": {
            "gridcolor": "white",
            "linecolor": "white",
            "ticks": ""
           },
           "baxis": {
            "gridcolor": "white",
            "linecolor": "white",
            "ticks": ""
           },
           "bgcolor": "#E5ECF6",
           "caxis": {
            "gridcolor": "white",
            "linecolor": "white",
            "ticks": ""
           }
          },
          "title": {
           "x": 0.05
          },
          "xaxis": {
           "automargin": true,
           "gridcolor": "white",
           "linecolor": "white",
           "ticks": "",
           "title": {
            "standoff": 15
           },
           "zerolinecolor": "white",
           "zerolinewidth": 2
          },
          "yaxis": {
           "automargin": true,
           "gridcolor": "white",
           "linecolor": "white",
           "ticks": "",
           "title": {
            "standoff": 15
           },
           "zerolinecolor": "white",
           "zerolinewidth": 2
          }
         }
        },
        "title": {
         "text": "1分足のローソク足チャートと取引データのScatter Plot"
        },
        "width": 1600,
        "xaxis": {
         "anchor": "y",
         "domain": [
          0,
          1
         ],
         "matches": "x2",
         "rangeslider": {
          "visible": false
         },
         "showticklabels": false
        },
        "xaxis2": {
         "anchor": "y2",
         "domain": [
          0,
          1
         ],
         "title": {
          "text": "時間"
         }
        },
        "yaxis": {
         "anchor": "x",
         "domain": [
          0.24555555555555558,
          1
         ],
         "title": {
          "text": "価格"
         }
        },
        "yaxis2": {
         "anchor": "x2",
         "domain": [
          0,
          0.21555555555555558
         ],
         "title": {
          "text": "出来高"
         }
        }
       }
      }
     },
     "metadata": {},
     "output_type": "display_data"
    }
   ],
   "source": [
    "import plotly.graph_objs as go\n",
    "from plotly.subplots import make_subplots\n",
    "\n",
    "# ローソク足チャート用のデータフレーム\n",
    "df_candlestick = df.loc['2024-06-06'].between_time('09:00', '10:00')\n",
    "\n",
    "\n",
    "# scatter plot用のデータフレーム\n",
    "df_scatter = today[today['銘柄']==companies_dict[int(ticker)]]\n",
    "df_scatter['約定数量[株/口]'] = df_scatter['約定数量[株/口]'].astype(float)\n",
    "# マーカーの色と形を設定する関数\n",
    "def set_color(row):\n",
    "    if row['売買'] == '買建':\n",
    "        return 'green'\n",
    "    elif row['売買'] == '売埋':\n",
    "        return 'green'\n",
    "    elif row['売買'] == '売建':\n",
    "        return 'red'\n",
    "    elif row['売買'] == '買埋':\n",
    "        return 'red'\n",
    "    else:\n",
    "        return ''  # デフォルトのマーカー\n",
    "\n",
    "def set_marker(row):\n",
    "    if row['売買'] == '買建':\n",
    "        return 'triangle-up'\n",
    "    elif row['売買'] == '売埋':\n",
    "        return 'circle'\n",
    "    elif row['売買'] == '売建':\n",
    "        return 'triangle-down'\n",
    "    elif row['売買'] == '買埋':\n",
    "        return 'circle'\n",
    "    else:\n",
    "        return ''  # デフォルトのマーカー\n",
    "\n",
    "# DataFrameの各行に対してマーカーの設定を適用\n",
    "df_scatter['color'] = df_scatter.apply(set_color, axis=1)\n",
    "df_scatter['marker'] = df_scatter.apply(set_marker, axis=1)\n",
    "\n",
    "# サブプロットを作成\n",
    "fig = make_subplots(rows=2, cols=1, shared_xaxes=True, \n",
    "                    vertical_spacing=0.03, subplot_titles=('ローソク足', '取引量'), \n",
    "                    row_width=[0.2, 0.7])\n",
    "\n",
    "# ローソク足チャートを追加\n",
    "fig.add_trace(go.Candlestick(x=df_candlestick.index,\n",
    "                open=df_candlestick['Open'],\n",
    "                high=df_candlestick['High'],\n",
    "                low=df_candlestick['Low'],\n",
    "                close=df_candlestick['Close']), row=1, col=1)\n",
    "\n",
    "# scatter plotを追加\n",
    "fig.add_trace(go.Scatter(x=df_scatter.index, y=df_scatter['約定単価[円]'], \n",
    "                         mode='markers',\n",
    "                         marker=dict(size=df_scatter['約定数量[株/口]'],\n",
    "                                     sizemode='area',  # サイズを面積として解釈\n",
    "                                     sizeref=2.*max(df_scatter['約定数量[株/口]'])/(20.**2),  # サイズスケーリングのための参照値\n",
    "                                     sizemin=1,  # マーカーの最小サイズ\n",
    "                                     color=df_scatter['color'],  # マーカーの色\n",
    "                                     symbol=df_scatter['marker']  # マーカーの形\n",
    "                                     )),\n",
    "                                      row=1, col=1\n",
    "                                      )\n",
    "\n",
    "# histgramを追加\n",
    "fig.add_trace(go.Bar(\n",
    "    x=df_candlestick.index,\n",
    "    y=df_candlestick['Volume'],\n",
    "),\n",
    "    row=2,col=1\n",
    ")\n",
    "\n",
    "# グラフのレイアウトを更新\n",
    "fig.update_layout(height=600, width=1600, title_text=\"1分足のローソク足チャートと取引データのScatter Plot\")\n",
    "fig.update_xaxes(title_text=\"時間\", row=2, col=1)\n",
    "fig.update_yaxes(title_text=\"価格\", row=1, col=1)\n",
    "fig.update_yaxes(title_text=\"出来高\", row=2, col=1)\n",
    "fig.update_layout(xaxis_rangeslider_visible=False)\n",
    "# グラフを表示\n",
    "fig.show()\n"
   ]
  },
  {
   "cell_type": "code",
   "execution_count": null,
   "metadata": {},
   "outputs": [],
   "source": []
  },
  {
   "cell_type": "code",
   "execution_count": null,
   "metadata": {},
   "outputs": [],
   "source": []
  },
  {
   "cell_type": "code",
   "execution_count": 156,
   "metadata": {},
   "outputs": [
    {
     "data": {
      "text/html": [
       "<div>\n",
       "<style scoped>\n",
       "    .dataframe tbody tr th:only-of-type {\n",
       "        vertical-align: middle;\n",
       "    }\n",
       "\n",
       "    .dataframe tbody tr th {\n",
       "        vertical-align: top;\n",
       "    }\n",
       "\n",
       "    .dataframe thead th {\n",
       "        text-align: right;\n",
       "    }\n",
       "</style>\n",
       "<table border=\"1\" class=\"dataframe\">\n",
       "  <thead>\n",
       "    <tr style=\"text-align: right;\">\n",
       "      <th></th>\n",
       "      <th>code</th>\n",
       "    </tr>\n",
       "  </thead>\n",
       "  <tbody>\n",
       "    <tr>\n",
       "      <th>住石HD</th>\n",
       "      <td>1514</td>\n",
       "    </tr>\n",
       "    <tr>\n",
       "      <th>日経レバダブル</th>\n",
       "      <td>1579</td>\n",
       "    </tr>\n",
       "    <tr>\n",
       "      <th>霞ヶ関</th>\n",
       "      <td>3498</td>\n",
       "    </tr>\n",
       "    <tr>\n",
       "      <th>SHIFT</th>\n",
       "      <td>3697</td>\n",
       "    </tr>\n",
       "    <tr>\n",
       "      <th>さくらインターネット</th>\n",
       "      <td>3778</td>\n",
       "    </tr>\n",
       "    <tr>\n",
       "      <th>カバー</th>\n",
       "      <td>5253</td>\n",
       "    </tr>\n",
       "    <tr>\n",
       "      <th>LABORO</th>\n",
       "      <td>5586</td>\n",
       "    </tr>\n",
       "    <tr>\n",
       "      <th>QPS</th>\n",
       "      <td>5595</td>\n",
       "    </tr>\n",
       "    <tr>\n",
       "      <th>フジクラ</th>\n",
       "      <td>5803</td>\n",
       "    </tr>\n",
       "    <tr>\n",
       "      <th>リクルート</th>\n",
       "      <td>6098</td>\n",
       "    </tr>\n",
       "    <tr>\n",
       "      <th>ディスコ</th>\n",
       "      <td>6146</td>\n",
       "    </tr>\n",
       "    <tr>\n",
       "      <th>TOWA</th>\n",
       "      <td>6315</td>\n",
       "    </tr>\n",
       "    <tr>\n",
       "      <th>ソシオネクスト</th>\n",
       "      <td>6526</td>\n",
       "    </tr>\n",
       "    <tr>\n",
       "      <th>ルネサス</th>\n",
       "      <td>6723</td>\n",
       "    </tr>\n",
       "    <tr>\n",
       "      <th>アドバンテスト</th>\n",
       "      <td>6857</td>\n",
       "    </tr>\n",
       "    <tr>\n",
       "      <th>アルバック</th>\n",
       "      <td>6728</td>\n",
       "    </tr>\n",
       "    <tr>\n",
       "      <th>レーザーテック</th>\n",
       "      <td>6920</td>\n",
       "    </tr>\n",
       "    <tr>\n",
       "      <th>三井E&amp;S</th>\n",
       "      <td>7003</td>\n",
       "    </tr>\n",
       "    <tr>\n",
       "      <th>名村造船所</th>\n",
       "      <td>7014</td>\n",
       "    </tr>\n",
       "    <tr>\n",
       "      <th>SCREEN</th>\n",
       "      <td>7735</td>\n",
       "    </tr>\n",
       "    <tr>\n",
       "      <th>東京エレクトロン</th>\n",
       "      <td>8035</td>\n",
       "    </tr>\n",
       "    <tr>\n",
       "      <th>MUFG</th>\n",
       "      <td>8306</td>\n",
       "    </tr>\n",
       "    <tr>\n",
       "      <th>日本郵船</th>\n",
       "      <td>9101</td>\n",
       "    </tr>\n",
       "    <tr>\n",
       "      <th>川崎汽船</th>\n",
       "      <td>9107</td>\n",
       "    </tr>\n",
       "    <tr>\n",
       "      <th>売れるネット広告社</th>\n",
       "      <td>9235</td>\n",
       "    </tr>\n",
       "    <tr>\n",
       "      <th>ispace</th>\n",
       "      <td>9348</td>\n",
       "    </tr>\n",
       "    <tr>\n",
       "      <th>SBG</th>\n",
       "      <td>9984</td>\n",
       "    </tr>\n",
       "  </tbody>\n",
       "</table>\n",
       "</div>"
      ],
      "text/plain": [
       "            code\n",
       "住石HD        1514\n",
       "日経レバダブル     1579\n",
       "霞ヶ関         3498\n",
       "SHIFT       3697\n",
       "さくらインターネット  3778\n",
       "カバー         5253\n",
       "LABORO      5586\n",
       "QPS         5595\n",
       "フジクラ        5803\n",
       "リクルート       6098\n",
       "ディスコ        6146\n",
       "TOWA        6315\n",
       "ソシオネクスト     6526\n",
       "ルネサス        6723\n",
       "アドバンテスト     6857\n",
       "アルバック       6728\n",
       "レーザーテック     6920\n",
       "三井E&S       7003\n",
       "名村造船所       7014\n",
       "SCREEN      7735\n",
       "東京エレクトロン    8035\n",
       "MUFG        8306\n",
       "日本郵船        9101\n",
       "川崎汽船        9107\n",
       "売れるネット広告社   9235\n",
       "ispace      9348\n",
       "SBG         9984"
      ]
     },
     "execution_count": 156,
     "metadata": {},
     "output_type": "execute_result"
    }
   ],
   "source": [
    "ticker_list"
   ]
  },
  {
   "cell_type": "code",
   "execution_count": 154,
   "metadata": {},
   "outputs": [
    {
     "name": "stdout",
     "output_type": "stream",
     "text": [
      "Error: ＱＰＳ研究所 はticker_listに存在しません。\n"
     ]
    }
   ],
   "source": [
    "# ticker codeの抽出\n",
    "ticker_list = pd.read_csv('tickers.csv', index_col=0)\n",
    "\n",
    "# companies_dictにtickerが存在するか確認\n",
    "if int(ticker) in companies_dict:\n",
    "    company_code = companies_dict[int(ticker)]\n",
    "    if company_code in ticker_list.index:\n",
    "        code = ticker_list.loc[company_code]['code']\n",
    "    else:\n",
    "        print(f'Error: {company_code} はticker_listに存在しません。')\n",
    "else:\n",
    "    print(f'Error: {int(ticker)} はcompanies_dictに存在しません。')\n",
    "\n",
    "# 分足データの読み込み\n",
    "try:\n",
    "    csv = f'./1min/{code}.csv'\n",
    "    df = pd.read_csv(csv, parse_dates=['Datetime'], index_col='Datetime')\n",
    "except FileNotFoundError:\n",
    "    print(f'Error: ファイル {csv} が見つかりません。')\n",
    "except pd.errors.EmptyDataError:\n",
    "    print(f'Error: ファイル {csv} は空です。')\n"
   ]
  }
 ],
 "metadata": {
  "kernelspec": {
   "display_name": "ci",
   "language": "python",
   "name": "python3"
  },
  "language_info": {
   "codemirror_mode": {
    "name": "ipython",
    "version": 3
   },
   "file_extension": ".py",
   "mimetype": "text/x-python",
   "name": "python",
   "nbconvert_exporter": "python",
   "pygments_lexer": "ipython3",
   "version": "3.10.12"
  }
 },
 "nbformat": 4,
 "nbformat_minor": 2
}
